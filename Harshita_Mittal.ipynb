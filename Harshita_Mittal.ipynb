{
  "nbformat": 4,
  "nbformat_minor": 0,
  "metadata": {
    "colab": {
      "provenance": [],
      "authorship_tag": "ABX9TyNI7UZyz9vznD9wLTBLNn3P",
      "include_colab_link": true
    },
    "kernelspec": {
      "name": "python3",
      "display_name": "Python 3"
    },
    "language_info": {
      "name": "python"
    }
  },
  "cells": [
    {
      "cell_type": "markdown",
      "metadata": {
        "id": "view-in-github",
        "colab_type": "text"
      },
      "source": [
        "<a href=\"https://colab.research.google.com/github/harshy02/product-data-scraping/blob/main/Harshita_Mittal.ipynb\" target=\"_parent\"><img src=\"https://colab.research.google.com/assets/colab-badge.svg\" alt=\"Open In Colab\"/></a>"
      ]
    },
    {
      "cell_type": "markdown",
      "source": [
        "PART 1"
      ],
      "metadata": {
        "id": "i_klzZYwy21S"
      }
    },
    {
      "cell_type": "code",
      "execution_count": null,
      "metadata": {
        "colab": {
          "base_uri": "https://localhost:8080/"
        },
        "id": "NkIo9gRugKTu",
        "outputId": "4242536d-5429-4ba6-8c74-e512470b2716"
      },
      "outputs": [
        {
          "output_type": "stream",
          "name": "stdout",
          "text": [
            "Requirement already satisfied: beautifulsoup4 in /usr/local/lib/python3.10/dist-packages (4.11.2)\n",
            "Requirement already satisfied: soupsieve>1.2 in /usr/local/lib/python3.10/dist-packages (from beautifulsoup4) (2.4.1)\n",
            "Requirement already satisfied: requests in /usr/local/lib/python3.10/dist-packages (2.27.1)\n",
            "Requirement already satisfied: urllib3<1.27,>=1.21.1 in /usr/local/lib/python3.10/dist-packages (from requests) (1.26.16)\n",
            "Requirement already satisfied: certifi>=2017.4.17 in /usr/local/lib/python3.10/dist-packages (from requests) (2023.7.22)\n",
            "Requirement already satisfied: charset-normalizer~=2.0.0 in /usr/local/lib/python3.10/dist-packages (from requests) (2.0.12)\n",
            "Requirement already satisfied: idna<4,>=2.5 in /usr/local/lib/python3.10/dist-packages (from requests) (3.4)\n"
          ]
        }
      ],
      "source": [
        "!pip install beautifulsoup4\n",
        "!pip install requests"
      ]
    },
    {
      "cell_type": "code",
      "source": [
        "import requests\n",
        "from bs4 import BeautifulSoup\n",
        "import csv\n",
        "import time"
      ],
      "metadata": {
        "id": "WJCbPtKZgq3o"
      },
      "execution_count": null,
      "outputs": []
    },
    {
      "cell_type": "code",
      "source": [
        "import requests\n",
        "from bs4 import BeautifulSoup\n",
        "import csv\n",
        "import time\n",
        "\n",
        "def scrape_amazon_products(url, num_pages=20):\n",
        "    all_products = []\n",
        "    headers = {\n",
        "        'User-Agent': 'Mozilla/5.0 (Windows NT 10.0; Win64; x64) AppleWebKit/537.36 (KHTML, like Gecko) Chrome/91.0.4472.124 Safari/537.36',\n",
        "    }\n",
        "\n",
        "    for page in range(1, num_pages + 1):\n",
        "        page_url = f\"{url}&page={page}\"\n",
        "        response = requests.get(page_url, headers=headers)\n",
        "        if response.status_code == 200:\n",
        "            soup = BeautifulSoup(response.content, 'html.parser')\n",
        "            products = soup.find_all('div', {'data-asin': True})\n",
        "\n",
        "            # iterating over extracted data\n",
        "            for product in products:\n",
        "                product_data = {}\n",
        "\n",
        "            # fetching desired data\n",
        "                try:\n",
        "                    product_name = product.find('span', {'class': 'a-size-medium'}).text.strip()\n",
        "                    product_data['Product Name'] = product_name\n",
        "\n",
        "                    # error handling\n",
        "                except:\n",
        "                    product_data['Product Name'] = 'N/A'\n",
        "\n",
        "                try:\n",
        "                    product_url = 'https://www.amazon.in' + product.find('a', {'class': 'a-link-normal'})['href']\n",
        "                    product_data['Product URL'] = product_url\n",
        "                except:\n",
        "                    product_data['Product URL'] = 'N/A'\n",
        "\n",
        "                try:\n",
        "                    product_price = product.find('span', {'class': 'a-offscreen'}).text.strip()\n",
        "                    product_data['Product Price'] = product_price\n",
        "                except:\n",
        "                    product_data['Product Price'] = 'N/A'\n",
        "\n",
        "                try:\n",
        "                    product_rating = float(product.find('span', {'class': 'a-icon-alt'}).text.split()[0])\n",
        "                    product_data['Rating'] = product_rating\n",
        "                except:\n",
        "                    product_data['Rating'] = 'N/A'\n",
        "\n",
        "                try:\n",
        "                    product_reviews = int(product.find('span', {'class': 'a-size-base'}).text.replace(',', ''))\n",
        "                    product_data['Number of Reviews'] = product_reviews\n",
        "                except:\n",
        "                    product_data['Number of Reviews'] = 'N/A'\n",
        "\n",
        "                all_products.append(product_data)\n",
        "\n",
        "        time.sleep(2)  # delay after each page\n",
        "\n",
        "    return all_products"
      ],
      "metadata": {
        "id": "Dy0jLzS7gqrd"
      },
      "execution_count": null,
      "outputs": []
    },
    {
      "cell_type": "code",
      "source": [
        "# calling function\n",
        "amazon_url = \"https://www.amazon.in/s?k=bags&crid=2M096C61O4MLT&qid=1653308124&sprefix=ba%2Caps%2C283&ref=sr_pg_1\"\n",
        "scraped_products = scrape_amazon_products(amazon_url, num_pages=20)"
      ],
      "metadata": {
        "id": "-eg_tutFgqev"
      },
      "execution_count": null,
      "outputs": []
    },
    {
      "cell_type": "code",
      "source": [
        "with open('amazon_products_part1.csv', 'w', newline='', encoding='utf-8') as csvfile:\n",
        "    fieldnames = ['Product Name', 'Product URL', 'Product Price', 'Rating', 'Number of Reviews']\n",
        "    writer = csv.DictWriter(csvfile, fieldnames=fieldnames)\n",
        "    writer.writeheader()\n",
        "    writer.writerows(scraped_products)"
      ],
      "metadata": {
        "id": "8H6DUuC4hRBe"
      },
      "execution_count": null,
      "outputs": []
    },
    {
      "cell_type": "code",
      "source": [
        "from google.colab import files\n",
        "files.download('amazon_products_part1.csv')"
      ],
      "metadata": {
        "colab": {
          "base_uri": "https://localhost:8080/",
          "height": 17
        },
        "id": "UtL3hGNehQzm",
        "outputId": "8346864e-600c-4c31-f712-cf625cbcb1f8"
      },
      "execution_count": null,
      "outputs": [
        {
          "output_type": "display_data",
          "data": {
            "text/plain": [
              "<IPython.core.display.Javascript object>"
            ],
            "application/javascript": [
              "\n",
              "    async function download(id, filename, size) {\n",
              "      if (!google.colab.kernel.accessAllowed) {\n",
              "        return;\n",
              "      }\n",
              "      const div = document.createElement('div');\n",
              "      const label = document.createElement('label');\n",
              "      label.textContent = `Downloading \"${filename}\": `;\n",
              "      div.appendChild(label);\n",
              "      const progress = document.createElement('progress');\n",
              "      progress.max = size;\n",
              "      div.appendChild(progress);\n",
              "      document.body.appendChild(div);\n",
              "\n",
              "      const buffers = [];\n",
              "      let downloaded = 0;\n",
              "\n",
              "      const channel = await google.colab.kernel.comms.open(id);\n",
              "      // Send a message to notify the kernel that we're ready.\n",
              "      channel.send({})\n",
              "\n",
              "      for await (const message of channel.messages) {\n",
              "        // Send a message to notify the kernel that we're ready.\n",
              "        channel.send({})\n",
              "        if (message.buffers) {\n",
              "          for (const buffer of message.buffers) {\n",
              "            buffers.push(buffer);\n",
              "            downloaded += buffer.byteLength;\n",
              "            progress.value = downloaded;\n",
              "          }\n",
              "        }\n",
              "      }\n",
              "      const blob = new Blob(buffers, {type: 'application/binary'});\n",
              "      const a = document.createElement('a');\n",
              "      a.href = window.URL.createObjectURL(blob);\n",
              "      a.download = filename;\n",
              "      div.appendChild(a);\n",
              "      a.click();\n",
              "      div.remove();\n",
              "    }\n",
              "  "
            ]
          },
          "metadata": {}
        },
        {
          "output_type": "display_data",
          "data": {
            "text/plain": [
              "<IPython.core.display.Javascript object>"
            ],
            "application/javascript": [
              "download(\"download_c68561ff-1a96-4343-96d8-a527bf333516\", \"amazon_products_part1.csv\", 197489)"
            ]
          },
          "metadata": {}
        }
      ]
    },
    {
      "cell_type": "markdown",
      "source": [
        "PART 2"
      ],
      "metadata": {
        "id": "JjH5COAGzGvL"
      }
    },
    {
      "cell_type": "code",
      "source": [
        "import requests\n",
        "from bs4 import BeautifulSoup\n",
        "import csv\n",
        "import time\n",
        "\n",
        "def scrape_amazon_products(url, num_pages=20, num_products=200):\n",
        "    all_products = []\n",
        "    headers = {\n",
        "        'User-Agent': 'Mozilla/5.0 (Windows NT 10.0; Win64; x64) AppleWebKit/537.36 (KHTML, like Gecko) Chrome/91.0.4472.124 Safari/537.36',\n",
        "    }\n",
        "    products_scraped = 0\n",
        "\n",
        "    for page in range(1, num_pages + 1):\n",
        "        page_url = f\"{url}&page={page}\"\n",
        "        #fetch page content\n",
        "        response = requests.get(page_url, headers=headers)\n",
        "        if response.status_code == 200:\n",
        "            soup = BeautifulSoup(response.content, 'html.parser')\n",
        "            products = soup.find_all('div', {'data-asin': True})\n",
        "\n",
        "            for product in products:\n",
        "                if products_scraped >= num_products:\n",
        "                    break\n",
        "                product_data = {}\n",
        "\n",
        "                try:\n",
        "                    product_name = product.find('span', {'class': 'a-size-medium'}).text.strip()\n",
        "                    product_data['Product Name'] = product_name\n",
        "                except:\n",
        "                    product_data['Product Name'] = 'N/A'\n",
        "\n",
        "                try:\n",
        "                    product_url = 'https://www.amazon.in' + product.find('a', {'class': 'a-link-normal'})['href']\n",
        "                    product_data['Product URL'] = product_url\n",
        "\n",
        "                    # Fetch additional information from the product page\n",
        "                    product_response = requests.get(product_url, headers=headers)\n",
        "                    if product_response.status_code == 200:\n",
        "                        product_soup = BeautifulSoup(product_response.content, 'html.parser')\n",
        "\n",
        "                        # Description\n",
        "                        try:\n",
        "                            product_description = product_soup.find('meta', {'name': 'description'})['content']\n",
        "                            product_data['Description'] = product_description\n",
        "                        except:\n",
        "                            product_data['Description'] = 'N/A'\n",
        "\n",
        "                        # ASIN\n",
        "                        try:\n",
        "                            asin = product_soup.find('th', text='ASIN').find_next_sibling('td').text.strip()\n",
        "                            product_data['ASIN'] = asin\n",
        "                        except:\n",
        "                            product_data['ASIN'] = 'N/A'\n",
        "\n",
        "                        # Product Description\n",
        "                        try:\n",
        "                            long_description = product_soup.find('div', {'id': 'productDescription'}).text.strip()\n",
        "                            product_data['Product Description'] = long_description\n",
        "                        except:\n",
        "                            product_data['Product Description'] = 'N/A'\n",
        "\n",
        "                        # Manufacturer\n",
        "                        try:\n",
        "                            manufacturer = product_soup.find('a', {'id': 'bylineInfo'}).text.strip()\n",
        "                            product_data['Manufacturer'] = manufacturer\n",
        "                        except:\n",
        "                            product_data['Manufacturer'] = 'N/A'\n",
        "\n",
        "                except:\n",
        "                    product_data['Product URL'] = 'N/A'\n",
        "\n",
        "                # store product data\n",
        "                all_products.append(product_data)\n",
        "                products_scraped += 1\n",
        "\n",
        "        if products_scraped >= num_products:\n",
        "            break\n",
        "\n",
        "        time.sleep(2)\n",
        "\n",
        "    return all_products"
      ],
      "metadata": {
        "id": "m4Vd3hJ06I4A"
      },
      "execution_count": null,
      "outputs": []
    },
    {
      "cell_type": "code",
      "source": [
        "amazon_url = \"https://www.amazon.in/s?k=bags&crid=2M096C61O4MLT&qid=1653308124&sprefix=ba%2Caps%2C283&ref=sr_pg_1\"\n",
        "scraped_products = scrape_amazon_products(amazon_url, num_pages=20)"
      ],
      "metadata": {
        "id": "43iibmTW3rA5"
      },
      "execution_count": null,
      "outputs": []
    },
    {
      "cell_type": "code",
      "source": [
        "with open('amazon_products_part2.csv', 'w', newline='', encoding='utf-8') as csvfile:\n",
        "    fieldnames = ['Product Name', 'Product URL', 'Product Price', 'Rating', 'Number of Reviews', 'Description', 'ASIN', 'Product Description','Manufacturer' ]\n",
        "    writer = csv.DictWriter(csvfile, fieldnames=fieldnames)\n",
        "    writer.writeheader()\n",
        "    writer.writerows(scraped_products)"
      ],
      "metadata": {
        "id": "ih8e6D8N3vd1"
      },
      "execution_count": null,
      "outputs": []
    },
    {
      "cell_type": "code",
      "source": [
        "from google.colab import files\n",
        "files.download('amazon_products_part2.csv')"
      ],
      "metadata": {
        "colab": {
          "base_uri": "https://localhost:8080/",
          "height": 17
        },
        "id": "TWFfvP633vcB",
        "outputId": "9c42d205-fefe-4181-cf6f-6eaf9fd7fa50"
      },
      "execution_count": null,
      "outputs": [
        {
          "output_type": "display_data",
          "data": {
            "text/plain": [
              "<IPython.core.display.Javascript object>"
            ],
            "application/javascript": [
              "\n",
              "    async function download(id, filename, size) {\n",
              "      if (!google.colab.kernel.accessAllowed) {\n",
              "        return;\n",
              "      }\n",
              "      const div = document.createElement('div');\n",
              "      const label = document.createElement('label');\n",
              "      label.textContent = `Downloading \"${filename}\": `;\n",
              "      div.appendChild(label);\n",
              "      const progress = document.createElement('progress');\n",
              "      progress.max = size;\n",
              "      div.appendChild(progress);\n",
              "      document.body.appendChild(div);\n",
              "\n",
              "      const buffers = [];\n",
              "      let downloaded = 0;\n",
              "\n",
              "      const channel = await google.colab.kernel.comms.open(id);\n",
              "      // Send a message to notify the kernel that we're ready.\n",
              "      channel.send({})\n",
              "\n",
              "      for await (const message of channel.messages) {\n",
              "        // Send a message to notify the kernel that we're ready.\n",
              "        channel.send({})\n",
              "        if (message.buffers) {\n",
              "          for (const buffer of message.buffers) {\n",
              "            buffers.push(buffer);\n",
              "            downloaded += buffer.byteLength;\n",
              "            progress.value = downloaded;\n",
              "          }\n",
              "        }\n",
              "      }\n",
              "      const blob = new Blob(buffers, {type: 'application/binary'});\n",
              "      const a = document.createElement('a');\n",
              "      a.href = window.URL.createObjectURL(blob);\n",
              "      a.download = filename;\n",
              "      div.appendChild(a);\n",
              "      a.click();\n",
              "      div.remove();\n",
              "    }\n",
              "  "
            ]
          },
          "metadata": {}
        },
        {
          "output_type": "display_data",
          "data": {
            "text/plain": [
              "<IPython.core.display.Javascript object>"
            ],
            "application/javascript": [
              "download(\"download_5bfaa54b-5f6b-4db4-a8c3-1b7cd23ffbe4\", \"amazon_products_part2.csv\", 29652)"
            ]
          },
          "metadata": {}
        }
      ]
    }
  ]
}